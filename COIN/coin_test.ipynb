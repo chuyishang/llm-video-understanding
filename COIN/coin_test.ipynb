{
 "cells": [
  {
   "cell_type": "code",
   "execution_count": 21,
   "metadata": {},
   "outputs": [],
   "source": [
    "import json\n",
    "import pandas\n",
    "import numpy as np\n",
    "import os\n",
    "import re\n",
    "import webvtt\n",
    "from sentence_transformers import SentenceTransformer\n",
    "model = SentenceTransformer('paraphrase-MiniLM-L6-v2')"
   ]
  },
  {
   "cell_type": "code",
   "execution_count": 2,
   "metadata": {},
   "outputs": [],
   "source": [
    "coin_files = os.listdir(\"/shared/medhini/COIN/coin_asr/\")\n",
    "coin_ids = [filename[:-4] for filename in coin_files]"
   ]
  },
  {
   "cell_type": "code",
   "execution_count": 3,
   "metadata": {},
   "outputs": [],
   "source": [
    "id_to_tscptfile = {}\n",
    "for i in range(len(coin_ids)):\n",
    "    id_to_tscptfile[coin_ids[i]] = \"/shared/medhini/COIN/coin_asr/\" + coin_ids[i] + \".txt\""
   ]
  },
  {
   "cell_type": "code",
   "execution_count": 4,
   "metadata": {},
   "outputs": [],
   "source": [
    "id_to_vtt = {}\n",
    "for i in range(len(coin_ids)):\n",
    "    id_to_vtt[coin_ids[i]] = \"/shared/medhini/COIN/asr_vtt/\" + coin_ids[i] + \".en.vtt\""
   ]
  },
  {
   "cell_type": "code",
   "execution_count": 6,
   "metadata": {},
   "outputs": [],
   "source": [
    "with open(\"idd_to_vtt.json\", \"w\") as outfile:\n",
    "    json.dump(id_to_vtt, outfile)"
   ]
  },
  {
   "cell_type": "code",
   "execution_count": 10,
   "metadata": {},
   "outputs": [],
   "source": [
    "demo_id = \"tlwWhwJyBms\"\n",
    "vtt_file = \"/shared/medhini/COIN/asr_vtt/\" + demo_id + \".en.vtt\""
   ]
  },
  {
   "cell_type": "code",
   "execution_count": 14,
   "metadata": {},
   "outputs": [],
   "source": [
    "starts = []\n",
    "ends = []\n",
    "texts = []\n",
    "for caption in webvtt.read(vtt_file):\n",
    "    starts.append(caption.start)\n",
    "    ends.append(caption.end)\n",
    "    texts.append(caption.text)"
   ]
  },
  {
   "cell_type": "code",
   "execution_count": 19,
   "metadata": {},
   "outputs": [],
   "source": [
    "tscpt = \"\".join(texts).replace(\"\\n\", \" \")"
   ]
  },
  {
   "cell_type": "code",
   "execution_count": 23,
   "metadata": {},
   "outputs": [
    {
     "data": {
      "text/plain": [
       "384"
      ]
     },
     "execution_count": 23,
     "metadata": {},
     "output_type": "execute_result"
    }
   ],
   "source": [
    "len(model.encode(tscpt))"
   ]
  },
  {
   "cell_type": "code",
   "execution_count": 37,
   "metadata": {},
   "outputs": [],
   "source": [
    "cptn_embds = []\n",
    "for caption in texts:\n",
    "    cptn_embds.append((caption, model.encode(caption)))"
   ]
  },
  {
   "cell_type": "code",
   "execution_count": 36,
   "metadata": {},
   "outputs": [],
   "source": [
    "steps = [\"Boil water in a pot and add coffee.\", \"Stir until coffee grounds sink to bottom.\", \"Add cream and sugar and stir until desired level is reached.\", \"Serve coffee.\"]"
   ]
  },
  {
   "cell_type": "code",
   "execution_count": 38,
   "metadata": {},
   "outputs": [],
   "source": [
    "step_embds = []\n",
    "for step in steps:\n",
    "    step_embds.append((step, model.encode(step)))"
   ]
  },
  {
   "cell_type": "code",
   "execution_count": 53,
   "metadata": {},
   "outputs": [
    {
     "data": {
      "text/plain": [
       "'Boil water in a pot and add coffee.'"
      ]
     },
     "execution_count": 53,
     "metadata": {},
     "output_type": "execute_result"
    }
   ],
   "source": [
    "step_embds[0][0]"
   ]
  },
  {
   "cell_type": "code",
   "execution_count": 50,
   "metadata": {},
   "outputs": [],
   "source": [
    "sims = []\n",
    "for i in range(len(cptn_embds)):\n",
    "    sim = step_embds[0][1] @ cptn_embds[i][1]\n",
    "    sims.append((cptn_embds[i][0], sim))"
   ]
  },
  {
   "cell_type": "code",
   "execution_count": 60,
   "metadata": {},
   "outputs": [
    {
     "data": {
      "text/plain": [
       "[(\" \\nhere's a really simple way to make a\", 12.511193),\n",
       " (\"here's a really simple way to make a\\n \", 12.511193),\n",
       " (\"here's a really simple way to make a\\ngood cup of coffee into a saucepan I'm\",\n",
       "  32.875195),\n",
       " (\"good cup of coffee into a saucepan I'm\\n \", 34.927284),\n",
       " (\"good cup of coffee into a saucepan I'm\\njust gonna add a scoop of coffee per cup\",\n",
       "  30.294231),\n",
       " ('just gonna add a scoop of coffee per cup\\n ', 35.20027),\n",
       " ('just gonna add a scoop of coffee per cup\\nof coffee the way you like it',\n",
       "  32.51391),\n",
       " ('of coffee the way you like it\\n ', 32.814148),\n",
       " (\"of coffee the way you like it\\nthe way you normally would make it I'm\",\n",
       "  24.828316),\n",
       " (\"the way you normally would make it I'm\\n \", 2.8026829),\n",
       " (\"the way you normally would make it I'm\\ngonna turn that burner to low and in the\",\n",
       "  9.430897),\n",
       " ('gonna turn that burner to low and in the\\n ', 12.390066),\n",
       " (\"gonna turn that burner to low and in the\\nmeantime I'm gonna boil some water in my\",\n",
       "  24.372396),\n",
       " (\"meantime I'm gonna boil some water in my\\n \", 29.050602),\n",
       " (\"meantime I'm gonna boil some water in my\\nkettle you can just boil the water in\",\n",
       "  29.676167),\n",
       " ('kettle you can just boil the water in\\n ', 40.28415),\n",
       " ('kettle you can just boil the water in\\nthe saucepan and then add the coffee',\n",
       "  44.698097),\n",
       " ('the saucepan and then add the coffee\\n ', 48.49617),\n",
       " (\"the saucepan and then add the coffee\\nlater it's just that my kettle boils\",\n",
       "  41.007523),\n",
       " (\"later it's just that my kettle boils\\n \", 33.96392),\n",
       " (\"later it's just that my kettle boils\\nwater much faster once that comes to the\",\n",
       "  28.450659),\n",
       " ('water much faster once that comes to the\\n ', 13.453985),\n",
       " (\"water much faster once that comes to the\\nboil I'm just gonna use my mug to\",\n",
       "  33.00741),\n",
       " (\"boil I'm just gonna use my mug to\\n \", 37.26583),\n",
       " (\"boil I'm just gonna use my mug to\\nmeasure the amount of water I need and\",\n",
       "  32.411427),\n",
       " ('measure the amount of water I need and\\n ', 15.294638),\n",
       " (\"measure the amount of water I need and\\nI'm gonna add that to my saucepan and\",\n",
       "  21.332447),\n",
       " (\"I'm gonna add that to my saucepan and\\n \", 19.429722),\n",
       " (\"I'm gonna add that to my saucepan and\\nnow I'm simply just going to stir this\",\n",
       "  19.071312),\n",
       " (\"now I'm simply just going to stir this\\n \", 15.272214),\n",
       " (\"now I'm simply just going to stir this\\nuntil there's no more foam on top and\",\n",
       "  20.176708),\n",
       " (\"until there's no more foam on top and\\n \", 16.808628),\n",
       " (\"until there's no more foam on top and\\nuntil most of the coffee grounds have\",\n",
       "  27.801386),\n",
       " ('until most of the coffee grounds have\\n ', 29.34056),\n",
       " ('until most of the coffee grounds have\\nsunk to the bottom it only takes a',\n",
       "  24.410852),\n",
       " ('sunk to the bottom it only takes a\\n ', 6.2828574),\n",
       " ('sunk to the bottom it only takes a\\ncouple of minutes and you can turn your',\n",
       "  4.7620735),\n",
       " ('couple of minutes and you can turn your\\n ', 5.2740993),\n",
       " (\"couple of minutes and you can turn your\\nheat off I've already added cream and\",\n",
       "  19.186977),\n",
       " (\"heat off I've already added cream and\\n \", 23.55545),\n",
       " (\"heat off I've already added cream and\\nsugar to my cup I'm also gonna add a\",\n",
       "  24.668194),\n",
       " (\"sugar to my cup I'm also gonna add a\\n \", 23.31459),\n",
       " (\"sugar to my cup I'm also gonna add a\\nstrainer if you use really finely ground\",\n",
       "  17.155094),\n",
       " ('strainer if you use really finely ground\\n ', 6.1455774),\n",
       " ('strainer if you use really finely ground\\ncoffee sometimes you can get away',\n",
       "  29.620161),\n",
       " ('coffee sometimes you can get away\\n ', 32.59997),\n",
       " (\"coffee sometimes you can get away\\nwithout a strainer so I've steep my\",\n",
       "  24.844618),\n",
       " (\"without a strainer so I've steep my\\n \", 1.961194),\n",
       " (\"without a strainer so I've steep my\\ncoffee for about three minutes but you\",\n",
       "  25.275589),\n",
       " ('coffee for about three minutes but you\\n ', 33.210373),\n",
       " ('coffee for about three minutes but you\\ncan go up to ten fifteen minutes if you',\n",
       "  27.627777),\n",
       " ('can go up to ten fifteen minutes if you\\n ', 3.710618),\n",
       " ('can go up to ten fifteen minutes if you\\nlike having the burner on low helps keep',\n",
       "  8.623499),\n",
       " ('like having the burner on low helps keep\\n ', 13.206895),\n",
       " ('like having the burner on low helps keep\\nit warm but it may evaporate a little',\n",
       "  18.495497),\n",
       " ('it warm but it may evaporate a little\\n ', 22.888418),\n",
       " (\"it warm but it may evaporate a little\\nbit and it's as simple as that just\",\n",
       "  17.656029),\n",
       " (\"bit and it's as simple as that just\\n \", 3.4763334),\n",
       " (\"bit and it's as simple as that just\\nstrain it into your cup this is a really\",\n",
       "  17.853659),\n",
       " ('strain it into your cup this is a really\\n ', 23.073786),\n",
       " (\"strain it into your cup this is a really\\ngreat way to make coffee if you don't\",\n",
       "  35.435856),\n",
       " (\"great way to make coffee if you don't\\n \", 38.107487),\n",
       " (\"great way to make coffee if you don't\\nhave a coffee maker or paper filters or\",\n",
       "  32.82798),\n",
       " ('have a coffee maker or paper filters or\\n ', 29.766901),\n",
       " ('have a coffee maker or paper filters or\\nanything like this this is a good way to',\n",
       "  23.262611),\n",
       " ('anything like this this is a good way to\\n ', 5.650683),\n",
       " (\"anything like this this is a good way to\\nmake campfire coffee it's really simple\",\n",
       "  33.48772),\n",
       " (\"make campfire coffee it's really simple\\n \", 38.38489),\n",
       " (\"make campfire coffee it's really simple\\nand it results in a really great cup of\",\n",
       "  35.176514),\n",
       " ('and it results in a really great cup of\\n ', 21.870453),\n",
       " ('and it results in a really great cup of\\ncoffee so yeah this is a very rustic way',\n",
       "  27.472027),\n",
       " ('coffee so yeah this is a very rustic way\\n ', 32.337822),\n",
       " ('coffee so yeah this is a very rustic way\\nto make coffee', 41.86111),\n",
       " ('to make coffee\\n ', 54.341408),\n",
       " ('to make coffee\\nbut what makes a rich cup of coffee are', 39.930138),\n",
       " ('but what makes a rich cup of coffee are\\n ', 37.182808),\n",
       " ('but what makes a rich cup of coffee are\\nthe oils from the coffee and paper',\n",
       "  32.45494),\n",
       " ('the oils from the coffee and paper\\n ', 35.65619),\n",
       " ('the oils from the coffee and paper\\nfilters will filter that up so I like',\n",
       "  25.517063),\n",
       " ('filters will filter that up so I like\\n ', 6.093444),\n",
       " (\"filters will filter that up so I like\\nmaking it this way it's not fully\",\n",
       "  5.9450474),\n",
       " (\"making it this way it's not fully\\n \", 9.260176),\n",
       " (\"making it this way it's not fully\\nstrained so I can get a good rich coffee\",\n",
       "  29.262762),\n",
       " ('strained so I can get a good rich coffee\\n ', 30.803148),\n",
       " ('strained so I can get a good rich coffee\\nflavor', 32.315308)]"
      ]
     },
     "execution_count": 60,
     "metadata": {},
     "output_type": "execute_result"
    }
   ],
   "source": [
    "sims"
   ]
  },
  {
   "cell_type": "code",
   "execution_count": 55,
   "metadata": {},
   "outputs": [],
   "source": [
    "sim_scores = [a[1] for a in sims]"
   ]
  },
  {
   "cell_type": "code",
   "execution_count": 57,
   "metadata": {},
   "outputs": [],
   "source": [
    "sim_scores = np.asarray(sim_scores)"
   ]
  },
  {
   "cell_type": "code",
   "execution_count": 59,
   "metadata": {},
   "outputs": [
    {
     "data": {
      "text/plain": [
       "54.341408"
      ]
     },
     "execution_count": 59,
     "metadata": {},
     "output_type": "execute_result"
    }
   ],
   "source": [
    "max(sim_scores)"
   ]
  },
  {
   "cell_type": "code",
   "execution_count": 42,
   "metadata": {},
   "outputs": [
    {
     "data": {
      "text/plain": [
       "('Stir until coffee grounds sink to bottom.',\n",
       " array([-0.15039304, -0.39281362,  0.04615164,  0.5412796 ,  0.15014032,\n",
       "         0.28689104, -0.70234865,  0.13860552, -0.30204165, -0.19785202,\n",
       "        -0.6955736 ,  0.09053002, -0.48348656, -0.14957264,  0.32438844,\n",
       "        -0.34823322, -0.01321165,  0.2223672 , -0.2960361 ,  0.33876187,\n",
       "         0.14286955, -0.2698711 , -0.45878538, -0.27518493, -0.08228505,\n",
       "         0.5687369 ,  0.0554275 ,  0.15123893, -0.10874023, -0.22862935,\n",
       "        -0.03931283,  0.15447399, -0.02674067, -0.39068952,  0.08549264,\n",
       "        -0.24347642, -0.08703528, -0.5114586 ,  0.64215076, -0.09240504,\n",
       "        -0.21794002,  0.27392262,  0.12480314, -0.18865186,  0.26812455,\n",
       "         0.5367707 ,  0.12533364, -0.18000704,  0.58017254,  0.01455728,\n",
       "        -0.13319139,  0.35016176,  0.14028853, -0.07446583, -0.4455471 ,\n",
       "         0.5108439 ,  0.19186169,  0.12588376,  0.0118642 ,  0.9370529 ,\n",
       "         0.39631853,  0.24581055, -0.37998703,  0.16670151, -0.40415144,\n",
       "        -0.4434587 , -0.43311492,  0.647867  , -0.40788212,  0.34127396,\n",
       "        -0.27837056, -0.00352556, -0.11434196, -0.6800858 ,  0.35486993,\n",
       "         0.26293772, -0.22887716, -0.4517088 , -0.27402124,  0.5216061 ,\n",
       "         0.46120113,  0.89815044, -0.41068703,  0.46349922, -0.97078466,\n",
       "         0.42231837,  0.46779633, -0.06686386,  0.15224308, -0.10093001,\n",
       "         0.02940374,  0.45742553, -0.19708112,  0.1729006 ,  0.32911873,\n",
       "        -0.2042599 , -0.00928827, -0.49568948,  0.24317542, -0.35900694,\n",
       "        -0.19432294, -0.21911843, -0.11663027, -1.0391753 ,  0.20526716,\n",
       "        -0.13399673,  0.21187711,  0.22524503,  0.5297518 , -0.4469851 ,\n",
       "         0.05689011,  0.34285235,  0.20121542, -0.6619407 , -0.1237941 ,\n",
       "        -0.40296832,  0.8598291 , -0.5957262 , -0.83572197,  0.10205869,\n",
       "         0.02991423,  0.05497938, -0.31829017, -0.04785639,  0.11175673,\n",
       "        -0.24401641,  0.16187666,  0.23711193, -0.0596506 , -0.24563813,\n",
       "         0.2668417 , -0.00503244,  0.5429719 , -0.02622758,  0.39687806,\n",
       "         0.36152816,  0.11161129,  0.73431003,  0.7526207 ,  0.20209476,\n",
       "        -0.63624567, -0.60683477, -0.6824938 , -0.7653214 ,  0.0212993 ,\n",
       "         0.2081737 , -0.8653852 , -0.48983374,  0.24598436, -0.19200063,\n",
       "        -0.31607193,  0.45858327,  0.08834334, -0.23321764, -0.18446282,\n",
       "        -0.03867763, -0.5894382 ,  0.0119376 ,  0.22711992,  0.12647156,\n",
       "        -0.6160115 , -0.08371039, -0.54221094, -0.65905035, -0.56875336,\n",
       "        -0.06613316, -0.07258032,  0.05111805, -0.1528077 ,  0.62323976,\n",
       "         0.15252931,  0.10886434, -0.19261265, -0.18366596, -0.74759614,\n",
       "         0.8349215 , -0.00925187, -0.05344419, -0.08436502,  0.3332951 ,\n",
       "         0.1864649 ,  1.255604  ,  0.28110406, -0.20185189, -0.40736684,\n",
       "         0.13212085,  0.11135636, -0.19927417,  0.09438153,  0.28118098,\n",
       "        -0.8120001 , -0.08224676, -0.47995073,  0.48742238, -0.20081028,\n",
       "         0.68709797,  0.10489891, -0.7582275 , -0.3563052 , -0.4612902 ,\n",
       "        -0.39506236,  0.09095635, -0.17127931,  0.03736208,  0.2908866 ,\n",
       "         0.1070158 ,  0.18321231, -0.10449737,  0.37602317, -0.19626024,\n",
       "         0.21805859,  0.14345971, -0.07962568,  0.34681618,  0.22279663,\n",
       "         0.6279514 ,  0.6128721 ,  0.10773398, -0.47718182, -0.366581  ,\n",
       "         0.571329  , -0.36794698, -0.44866705, -0.14345893,  0.58854187,\n",
       "        -0.7088144 , -0.61541617,  0.422971  ,  0.29407877, -0.10362635,\n",
       "        -0.52155364, -0.01020272, -0.27185857,  0.4054657 ,  0.14104083,\n",
       "         0.55613637,  0.25698218,  0.18552934, -0.55540234,  0.73658293,\n",
       "         0.3687312 ,  0.05438475, -0.35065517,  0.4642921 , -0.44736212,\n",
       "         0.42220885,  0.07950445, -0.09951281,  0.54903984, -0.03506823,\n",
       "         0.02297858, -0.16570508, -0.70936954,  0.23754783, -0.16970196,\n",
       "         0.00874622, -0.06015509,  0.07468457, -0.06657666, -0.08973579,\n",
       "        -0.08060463, -0.36108747, -0.0398813 ,  0.68451583,  0.25586128,\n",
       "        -0.43081635,  0.25842622,  0.07466163, -0.36092407,  0.07440542,\n",
       "        -0.6474649 , -0.7834541 , -0.0625896 ,  0.99934465, -0.10654952,\n",
       "        -0.35798034, -0.45209152,  0.18547957,  0.07639293, -0.11632743,\n",
       "         0.606431  , -0.52736497, -0.1734828 ,  0.11357651,  0.50211984,\n",
       "         0.02233838, -0.24019441, -0.5038537 ,  0.38774168, -0.18884294,\n",
       "        -0.33078682,  0.666554  ,  0.5406958 , -0.40554062,  0.57149774,\n",
       "         0.22880559,  0.944322  ,  0.49491072,  0.07998427,  0.41265267,\n",
       "         0.24177141, -0.13549666, -0.5368764 ,  0.1302155 , -0.42167863,\n",
       "         0.35151634,  0.11147781,  0.2825008 ,  0.05010501, -0.04093899,\n",
       "         0.16860184,  0.1579428 , -0.11076434,  0.3024333 , -0.45118538,\n",
       "        -0.21566638,  0.8114325 , -0.14112186,  0.31327757,  0.04758598,\n",
       "         0.22331262, -0.49042216,  0.14403199,  0.8785862 , -0.7025387 ,\n",
       "        -0.6135267 , -0.3136724 ,  0.20566854,  0.10236921,  0.5313358 ,\n",
       "        -0.06029445,  0.7252169 ,  0.58318883,  0.10499992,  0.29336485,\n",
       "        -0.3384652 ,  0.6217104 ,  0.11504519, -0.51969016, -0.48671547,\n",
       "        -0.27987784,  0.08136784,  0.18321772, -0.06271516,  0.2944247 ,\n",
       "        -0.5286458 , -0.4182056 , -0.13866656, -0.56510276, -0.3769231 ,\n",
       "         0.16685876,  0.26265463, -0.06307597, -0.00341504,  0.06257619,\n",
       "         0.29045278, -0.03245557,  0.0739532 , -0.62731683, -0.386478  ,\n",
       "        -1.0509913 , -0.02800916, -0.06437881, -0.36990505, -0.23673353,\n",
       "        -0.2746257 ,  0.01915662,  0.7946715 , -0.20022002,  0.3203525 ,\n",
       "         0.10082321,  0.7736485 ,  0.11460117,  0.49092108,  0.05117691,\n",
       "        -0.18592533,  0.12574781,  0.86257917,  0.44412875, -0.60726225,\n",
       "        -0.27578008,  1.209235  ,  0.2798139 , -0.46348277], dtype=float32))"
      ]
     },
     "execution_count": 42,
     "metadata": {},
     "output_type": "execute_result"
    }
   ],
   "source": [
    "step_embds[1]"
   ]
  },
  {
   "attachments": {},
   "cell_type": "markdown",
   "metadata": {},
   "source": [
    "# New stuff"
   ]
  },
  {
   "cell_type": "code",
   "execution_count": 62,
   "metadata": {},
   "outputs": [],
   "source": [
    "demo_id = \"tlwWhwJyBms\"\n",
    "vtt_file = \"/shared/medhini/COIN/asr_vtt/\" + demo_id + \".en.vtt\""
   ]
  },
  {
   "cell_type": "code",
   "execution_count": 63,
   "metadata": {},
   "outputs": [],
   "source": [
    "starts = []\n",
    "ends = []\n",
    "texts = []\n",
    "for caption in webvtt.read(vtt_file):\n",
    "    starts.append(caption.start)\n",
    "    ends.append(caption.end)\n",
    "    texts.append(caption.text)"
   ]
  },
  {
   "cell_type": "code",
   "execution_count": 64,
   "metadata": {},
   "outputs": [],
   "source": [
    "data = {\"text\": texts, \"start\": starts, \"end\": ends}"
   ]
  },
  {
   "cell_type": "code",
   "execution_count": 66,
   "metadata": {},
   "outputs": [],
   "source": [
    "coin_dict = {}\n",
    "coin_dict[demo_id] = data"
   ]
  },
  {
   "cell_type": "code",
   "execution_count": 74,
   "metadata": {},
   "outputs": [
    {
     "ename": "OSError",
     "evalue": "[Errno 28] No space left on device: 'demo_dict.json'",
     "output_type": "error",
     "traceback": [
      "\u001b[0;31m---------------------------------------------------------------------------\u001b[0m",
      "\u001b[0;31mOSError\u001b[0m                                   Traceback (most recent call last)",
      "Cell \u001b[0;32mIn[74], line 1\u001b[0m\n\u001b[0;32m----> 1\u001b[0m \u001b[39mwith\u001b[39;00m \u001b[39mopen\u001b[39;49m(\u001b[39m\"\u001b[39;49m\u001b[39mdemo_dict.json\u001b[39;49m\u001b[39m\"\u001b[39;49m, \u001b[39m\"\u001b[39;49m\u001b[39mw\u001b[39;49m\u001b[39m\"\u001b[39;49m) \u001b[39mas\u001b[39;00m outfile:\n\u001b[1;32m      2\u001b[0m     json\u001b[39m.\u001b[39mdump(coin_dict, outfile)\n",
      "File \u001b[0;32m~/miniconda3/envs/llm-video/lib/python3.11/site-packages/IPython/core/interactiveshell.py:284\u001b[0m, in \u001b[0;36m_modified_open\u001b[0;34m(file, *args, **kwargs)\u001b[0m\n\u001b[1;32m    277\u001b[0m \u001b[39mif\u001b[39;00m file \u001b[39min\u001b[39;00m {\u001b[39m0\u001b[39m, \u001b[39m1\u001b[39m, \u001b[39m2\u001b[39m}:\n\u001b[1;32m    278\u001b[0m     \u001b[39mraise\u001b[39;00m \u001b[39mValueError\u001b[39;00m(\n\u001b[1;32m    279\u001b[0m         \u001b[39mf\u001b[39m\u001b[39m\"\u001b[39m\u001b[39mIPython won\u001b[39m\u001b[39m'\u001b[39m\u001b[39mt let you open fd=\u001b[39m\u001b[39m{\u001b[39;00mfile\u001b[39m}\u001b[39;00m\u001b[39m by default \u001b[39m\u001b[39m\"\u001b[39m\n\u001b[1;32m    280\u001b[0m         \u001b[39m\"\u001b[39m\u001b[39mas it is likely to crash IPython. If you know what you are doing, \u001b[39m\u001b[39m\"\u001b[39m\n\u001b[1;32m    281\u001b[0m         \u001b[39m\"\u001b[39m\u001b[39myou can use builtins\u001b[39m\u001b[39m'\u001b[39m\u001b[39m open.\u001b[39m\u001b[39m\"\u001b[39m\n\u001b[1;32m    282\u001b[0m     )\n\u001b[0;32m--> 284\u001b[0m \u001b[39mreturn\u001b[39;00m io_open(file, \u001b[39m*\u001b[39;49margs, \u001b[39m*\u001b[39;49m\u001b[39m*\u001b[39;49mkwargs)\n",
      "\u001b[0;31mOSError\u001b[0m: [Errno 28] No space left on device: 'demo_dict.json'"
     ]
    }
   ],
   "source": [
    "with open(\"demo_dict.json\", \"w\") as outfile:\n",
    "    json.dump(coin_dict, outfile)"
   ]
  },
  {
   "cell_type": "code",
   "execution_count": null,
   "metadata": {},
   "outputs": [],
   "source": []
  }
 ],
 "metadata": {
  "kernelspec": {
   "display_name": "llm-video",
   "language": "python",
   "name": "python3"
  },
  "language_info": {
   "codemirror_mode": {
    "name": "ipython",
    "version": 3
   },
   "file_extension": ".py",
   "mimetype": "text/x-python",
   "name": "python",
   "nbconvert_exporter": "python",
   "pygments_lexer": "ipython3",
   "version": "3.11.3"
  },
  "orig_nbformat": 4
 },
 "nbformat": 4,
 "nbformat_minor": 2
}
