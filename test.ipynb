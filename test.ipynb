{
 "cells": [
  {
   "cell_type": "code",
   "execution_count": 4,
   "metadata": {},
   "outputs": [],
   "source": [
    "import json\n",
    "import pandas\n",
    "import numpy as np\n",
    "import os\n",
    "import re"
   ]
  },
  {
   "cell_type": "code",
   "execution_count": 12,
   "metadata": {},
   "outputs": [],
   "source": [
    "directory = \"/shared/medhini/WikiHow/how_to_steps/\"\n",
    "id_to_vid = {}\n",
    "vid_to_id = {}\n",
    "for filename in os.listdir(directory):\n",
    "    f = os.path.join(directory, filename)\n",
    "    file = open(f)\n",
    "    data = json.load(file)\n",
    "    video_url = data[\"video_url\"]\n",
    "    try:\n",
    "        id = re.findall(r\".+youtube\\.com\\/embed\\/(.+)\\?.+|.+youtube\\.com\\/embed\\/(.+)\", video_url)\n",
    "        if id[0][0]:\n",
    "            id_to_vid[id[0][0]] = filename\n",
    "            vid_to_id[filename] = id[0][0]\n",
    "        else:\n",
    "            id_to_vid[id[0][1]] = filename\n",
    "            vid_to_id[filename] = id[0][1]\n",
    "    except:\n",
    "        pass\n",
    "\n",
    "with open(\"id_to_vid.json\", \"w\") as outfile:\n",
    "        json.dump(id_to_vid, outfile)\n",
    "with open(\"vid_to_id.json\", \"w\") as outfile:\n",
    "        json.dump(vid_to_id, outfile)"
   ]
  },
  {
   "cell_type": "code",
   "execution_count": null,
   "metadata": {},
   "outputs": [],
   "source": [
    "directory = \"/shared/medhini/WikiHow/how_to_steps/\"\n",
    "id_to_vid = {}\n",
    "vid_to_id = {}\n",
    "w = open(\"video_ids.txt\", \"a\")\n",
    "for filename in os.listdir(directory):\n",
    "    f = os.path.join(directory, filename)\n",
    "    file = open(f)\n",
    "    data = json.load(file)\n",
    "    video_url = data[\"video_url\"]\n",
    "    try:\n",
    "        id = re.findall(r\".+youtube\\.com\\/embed\\/(.+)\\?.+|.+youtube\\.com\\/embed\\/(.+)\", video_url)\n",
    "        if id[0][0]:\n",
    "            #id_to_vid[id[0][0]] = filename\n",
    "            w.write(id[0][0])\n",
    "\n",
    "        else:\n",
    "            w.write(id[0][1])\n",
    "    except:\n",
    "        pass\n",
    "\n",
    "w.close()"
   ]
  }
 ],
 "metadata": {
  "kernelspec": {
   "display_name": "llm-video",
   "language": "python",
   "name": "python3"
  },
  "language_info": {
   "codemirror_mode": {
    "name": "ipython",
    "version": 3
   },
   "file_extension": ".py",
   "mimetype": "text/x-python",
   "name": "python",
   "nbconvert_exporter": "python",
   "pygments_lexer": "ipython3",
   "version": "3.11.3"
  },
  "orig_nbformat": 4
 },
 "nbformat": 4,
 "nbformat_minor": 2
}
